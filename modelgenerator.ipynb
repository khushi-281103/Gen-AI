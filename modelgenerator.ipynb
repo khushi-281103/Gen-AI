!pip install transformers torch scikit-learn joblib

import torch
from transformers import pipeline, set_seed
import joblib


generator = pipeline(
    "text-generation",
    model="gpt2-medium",
    device=0 if torch.cuda.is_available() else -1
)
def generate_blog(topic, keywords, max_len=300):
    set_seed(42)
    prompt = f"Write a detailed blog post about {topic}. Include SEO keywords: {', '.join(keywords)}."
    result = generator(prompt, max_length=max_len, num_return_sequences=1, temperature=0.7, top_p=0.9)
    return result[0]['generated_text']
    xs
joblib.dump(generator, "seo_blog_model.pkl")
print("✅ Model saved as seo_blog_model.pkl")
